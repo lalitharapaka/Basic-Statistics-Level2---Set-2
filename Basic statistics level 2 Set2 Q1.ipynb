{
 "cells": [
  {
   "cell_type": "markdown",
   "id": "7693dc2b",
   "metadata": {},
   "source": [
    "### 1.\tThe time required for servicing transmissions is normally distributed with  = 45 minutes and  = 8 minutes. The service manager plans to have work begin on the transmission of a customer’s car 10 minutes after the car is dropped off and the customer is told that the car will be ready within 1 hour from drop-off. What is the probability that the service manager cannot meet his commitment? \n",
    "\n",
    "### A.\t0.3875   \n",
    "### B.\t0.2676   \n",
    "### C.\t0.5   \n",
    "### D.\t0.6987 \n"
   ]
  },
  {
   "cell_type": "code",
   "execution_count": 2,
   "id": "1814fbdd",
   "metadata": {},
   "outputs": [],
   "source": [
    "### importing required libraries\n",
    "\n",
    "import pandas as pd \n",
    "import numpy as np\n",
    "from scipy import stats\n",
    "from scipy.stats import norm "
   ]
  },
  {
   "cell_type": "code",
   "execution_count": 3,
   "id": "c573248e",
   "metadata": {},
   "outputs": [],
   "source": [
    "### in this question mean is 45mins, standard deviation = 8mins and to calculate\n",
    "###  z score can be calculated using formula Z = x-μ/σ"
   ]
  },
  {
   "cell_type": "code",
   "execution_count": 4,
   "id": "2cb270a4",
   "metadata": {},
   "outputs": [
    {
     "data": {
      "text/plain": [
       "0.625"
      ]
     },
     "execution_count": 4,
     "metadata": {},
     "output_type": "execute_result"
    }
   ],
   "source": [
    "## At x = 50, Z= x-μ/σ\n",
    "Z = (50-45)/8\n",
    "Z "
   ]
  },
  {
   "cell_type": "code",
   "execution_count": 11,
   "id": "c8a68f3b",
   "metadata": {},
   "outputs": [
    {
     "data": {
      "text/plain": [
       "0.7340144709512995"
      ]
     },
     "execution_count": 11,
     "metadata": {},
     "output_type": "execute_result"
    }
   ],
   "source": [
    "# Probability for P(X<50)  is p_value = 1-stats.norm.cdf(abs(z_score))\n",
    "\n",
    "p_value = stats.norm.cdf(abs(Z))\n",
    "p_value\n"
   ]
  },
  {
   "cell_type": "code",
   "execution_count": 12,
   "id": "441ef41d",
   "metadata": {},
   "outputs": [
    {
     "data": {
      "text/plain": [
       "0.26598552904870054"
      ]
     },
     "execution_count": 12,
     "metadata": {},
     "output_type": "execute_result"
    }
   ],
   "source": [
    "# Probability for P(X>50)  is 1- p_value \n",
    "1-p_value"
   ]
  },
  {
   "cell_type": "code",
   "execution_count": 13,
   "id": "c039b940",
   "metadata": {},
   "outputs": [],
   "source": [
    "### Hence the probability of service manager not meeting his commitment is 0.266. ie. option B is the answer.\n"
   ]
  }
 ],
 "metadata": {
  "kernelspec": {
   "display_name": "Python 3",
   "language": "python",
   "name": "python3"
  },
  "language_info": {
   "codemirror_mode": {
    "name": "ipython",
    "version": 3
   },
   "file_extension": ".py",
   "mimetype": "text/x-python",
   "name": "python",
   "nbconvert_exporter": "python",
   "pygments_lexer": "ipython3",
   "version": "3.8.8"
  }
 },
 "nbformat": 4,
 "nbformat_minor": 5
}
